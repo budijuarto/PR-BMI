{
 "cells": [
  {
   "cell_type": "code",
   "execution_count": 7,
   "metadata": {},
   "outputs": [
    {
     "name": "stdout",
     "output_type": "stream",
     "text": [
      "Halo ini adalah BMI Calculator satuan kg dan meter\n",
      "Silahkan masukan tinggi badan anda dalam meter : 1.72\n",
      "Silahkan masukan berat badan anda dalam kg : 71\n",
      "BMImu adalah  23.99945916711736 yang berarti normal\n"
     ]
    }
   ],
   "source": [
    "print(\"Halo ini adalah BMI Calculator satuan kg dan meter\")\n",
    "tinggi = float(input(\"Silahkan masukan tinggi badan anda dalam meter : \"))\n",
    "berat  = int(input(\"Silahkan masukan berat badan anda dalam kg : \"))\n",
    "bmi = berat / (tinggi**2)\n",
    "\n",
    "if bmi < 15:\n",
    "     print(\"BMImu adalah \", bmi, \"yang berarti Very severely underweight\")\n",
    "elif bmi => 15 and bmi < 16:\n",
    "    print(\"BMImu adalah \", bmi, \"yang berarti severely underweight\")\n",
    "elif bmi => 16 and bmi < 18.5:\n",
    "    print(\"BMImu adalah \", bmi, \"yang berarti underweight\")\n",
    "elif bmi => 18.5 and bmi < 25:\n",
    "    print(\"BMImu adalah \", bmi, \"yang berarti normal\")\n",
    "elif bmi => 25 and bmi < 30:\n",
    "    print(\"BMImu adalah \", bmi, \"yang berarti overweight\")\n",
    "elif bmi => 30 and bmi < 35:\n",
    "    print(\"BMImu adalah \", bmi, \"yang berarti Moderately obese\")\n",
    "elif bmi => 35 and bmi < 40:\n",
    "    print(\"BMImu adalah \", bmi, \"yang berarti Severely obese\")\n",
    "elif bmi => 40:\n",
    "     print(\"BMImu adalah \", bmi, \"yang berarti \tVery severely obese\")"
   ]
  },
  {
   "cell_type": "code",
   "execution_count": null,
   "metadata": {},
   "outputs": [],
   "source": []
  },
  {
   "cell_type": "code",
   "execution_count": null,
   "metadata": {},
   "outputs": [],
   "source": []
  }
 ],
 "metadata": {
  "kernelspec": {
   "display_name": "Python 3",
   "language": "python",
   "name": "python3"
  },
  "language_info": {
   "codemirror_mode": {
    "name": "ipython",
    "version": 3
   },
   "file_extension": ".py",
   "mimetype": "text/x-python",
   "name": "python",
   "nbconvert_exporter": "python",
   "pygments_lexer": "ipython3",
   "version": "3.6.5"
  }
 },
 "nbformat": 4,
 "nbformat_minor": 2
}
